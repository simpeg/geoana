{
  "cells": [
    {
      "cell_type": "markdown",
      "metadata": {},
      "source": [
        "\n# Electric Dipole in a Whole Space: Frequency Domain\n\nIn this example, we plot electric and magnetic flux density due to an electric\ndipole in a whole space. Note that you can also examine the current density\nand magnetic field.\n\nWe can vary the conductivity, magnetic permeability and dielectric permittivity\nof the wholespace, the frequency of the source and whether or not the\nquasistatic assumption is imposed.\n\n:author: Lindsey Heagy ([@lheagy](https://github.com/lheagy))\n:date: June 2, 2018\n"
      ]
    },
    {
      "cell_type": "code",
      "execution_count": null,
      "metadata": {
        "collapsed": false
      },
      "outputs": [],
      "source": [
        "import numpy as np\nimport matplotlib.pyplot as plt\nfrom matplotlib.colors import LogNorm\nfrom scipy.constants import mu_0, epsilon_0\n\nfrom geoana import utils, spatial\nfrom geoana.em import fdem"
      ]
    },
    {
      "cell_type": "markdown",
      "metadata": {},
      "source": [
        "## Setup\n\ndefine frequencies that we want to examine, physical properties of the\nwholespace and location and orientation of the dipole\n\n"
      ]
    },
    {
      "cell_type": "code",
      "execution_count": null,
      "metadata": {
        "collapsed": false
      },
      "outputs": [],
      "source": [
        "frequencies = np.logspace(0, 4, 3)  # frequencies to examine\nsigma = 1.  # conductivity of 1 S/m\nmu = mu_0  # permeability of free space (this is the default)\nepsilon=epsilon_0  # permittivity of free space (this is the default)\nlocation=np.r_[0., 0., 0.]  # location of the dipole\norientation='Z'  # vertical dipole (can also be a unit-vector)\nquasistatic=False  # don't use the quasistatic assumption"
      ]
    },
    {
      "cell_type": "markdown",
      "metadata": {},
      "source": [
        "## Electric Dipole\n\nHere, we build the geoana electric dipole in a wholespace using the\nparameters defined above. For a full list of the properties you can set on an\nelectric dipole, see the :class:`geoana.em.fdem.ElectricDipoleWholeSpace`\ndocs\n\n"
      ]
    },
    {
      "cell_type": "code",
      "execution_count": null,
      "metadata": {
        "collapsed": false
      },
      "outputs": [],
      "source": [
        "edipole = fdem.ElectricDipoleWholeSpace(\n    frequencies, sigma=sigma, mu=mu, epsilon=epsilon,\n    location=location, orientation=orientation,\n    quasistatic=False\n)"
      ]
    },
    {
      "cell_type": "markdown",
      "metadata": {},
      "source": [
        "## Evaluate fields and fluxes\n\nNext, we construct a grid where we want to plot electric fields\n\n"
      ]
    },
    {
      "cell_type": "code",
      "execution_count": null,
      "metadata": {
        "collapsed": false
      },
      "outputs": [],
      "source": [
        "x = np.linspace(-50, 50, 100)\nz = np.linspace(-50, 50, 100)\nxyz = utils.ndgrid([x, np.r_[0], z])"
      ]
    },
    {
      "cell_type": "markdown",
      "metadata": {},
      "source": [
        "and define plotting code to plot an image of the amplitude of the vector\nfield / flux as well as the streamlines\n\n"
      ]
    },
    {
      "cell_type": "code",
      "execution_count": null,
      "metadata": {
        "collapsed": false
      },
      "outputs": [],
      "source": [
        "def plot_amplitude(ax, v):\n    v = spatial.vector_magnitude(v)\n    plt.colorbar(\n        ax.pcolormesh(\n            x, z, v.reshape(len(x), len(z), order='F'), norm=LogNorm()\n        ), ax=ax\n    )\n    ax.axis('square')\n    ax.set_xlabel('x (m)')\n    ax.set_ylabel('z (m)')\n\n\n# plot streamlines\ndef plot_streamlines(ax, v):\n    vx = v[:, 0].reshape(len(x), len(z), order='F')\n    vz = v[:, 2].reshape(len(x), len(z), order='F')\n    ax.streamplot(x, z, vx.T, vz.T, color='k')"
      ]
    },
    {
      "cell_type": "markdown",
      "metadata": {},
      "source": [
        "Create subplots for plotting the results. Loop over frequencies and plot the\nelectric and magnetic fields along a slice through the center of the dipole.\n\n"
      ]
    },
    {
      "cell_type": "code",
      "execution_count": null,
      "metadata": {
        "collapsed": false
      },
      "outputs": [],
      "source": [
        "fig_e, ax_e = plt.subplots(\n    2, len(frequencies), figsize=(5*len(frequencies), 7)\n)\nfig_b, ax_b = plt.subplots(\n    2, len(frequencies), figsize=(5*len(frequencies), 7)\n)\n\nfor i, frequency in enumerate(frequencies):\n\n    # set the frequency of the dipole\n    edipole.frequency = frequency\n\n    # evaluate the electric field and magnetic flux density\n    electric_field = edipole.electric_field(xyz)\n    magnetic_flux_density = edipole.magnetic_flux_density(xyz)\n\n    # plot amplitude of electric field\n    for ax, reim in zip(ax_e[:, i], ['real', 'imag']):\n        # grab real or imag component\n        e_plot = getattr(electric_field, reim)\n\n        # plot both amplitude and streamlines\n        plot_amplitude(ax, e_plot)\n        plot_streamlines(ax, e_plot)\n\n        # set the title\n        ax.set_title(\n            'E {} at {:1.1e} Hz'.format(reim, frequency)\n        )\n\n    # plot the amplitude of the magnetic field (note the magnetic field is into\n    # and out of the page in this geometry, so we don't plot vectors)\n    for ax, reim in zip(ax_b[:, i], ['real', 'imag']):\n        # grab real or imag component\n        b_plot = getattr(magnetic_flux_density, reim)\n\n        # plot amplitude\n        plot_amplitude(ax, b_plot)\n\n        # set the title\n        ax.set_title(\n            'B {} at {:1.1e} Hz'.format(reim, frequency)\n        )\n\n# format so text doesn't overlap\nfig_e.tight_layout()\nfig_b.tight_layout()\nplt.show()"
      ]
    }
  ],
  "metadata": {
    "kernelspec": {
      "display_name": "Python 3",
      "language": "python",
      "name": "python3"
    },
    "language_info": {
      "codemirror_mode": {
        "name": "ipython",
        "version": 3
      },
      "file_extension": ".py",
      "mimetype": "text/x-python",
      "name": "python",
      "nbconvert_exporter": "python",
      "pygments_lexer": "ipython3",
      "version": "3.13.8"
    }
  },
  "nbformat": 4,
  "nbformat_minor": 0
}