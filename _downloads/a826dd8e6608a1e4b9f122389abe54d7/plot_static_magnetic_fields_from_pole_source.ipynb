{
  "cells": [
    {
      "cell_type": "markdown",
      "metadata": {},
      "source": [
        "\n# Total magnetic fields: Dipole and Pole sources\n\nIn this example, we plot anomalous total magnetic field\nfrom a magnetic dipole and pole targets. These targets are\nexcited by Earth magnetic fields.\nWe can vary the direction of the Earth magnetic field, and\nmagnetic moment of the target.\n\n:author: Seogi Kang ([@sgkang](https://github.com/sgkang))\n:date: Aug 19, 2018\n"
      ]
    },
    {
      "cell_type": "code",
      "execution_count": null,
      "metadata": {
        "collapsed": false
      },
      "outputs": [],
      "source": [
        "import numpy as np\nimport matplotlib.pyplot as plt\nfrom matplotlib.colors import LogNorm\nfrom scipy.constants import mu_0, epsilon_0\n\nfrom geoana import utils, spatial\nfrom geoana.em import static"
      ]
    },
    {
      "cell_type": "markdown",
      "metadata": {},
      "source": [
        "## Setup\n\ndefine the location, orientation, and source, physical properties of the\nwholespace and source parameters\n\n"
      ]
    },
    {
      "cell_type": "code",
      "execution_count": null,
      "metadata": {
        "collapsed": false
      },
      "outputs": [],
      "source": [
        "mu = mu_0  # permeability of free space (this is the default)\nlocation = np.r_[0., 0., -10.]  # location of the dipole or pole\n\n# dipole parameters\nmoment = 1\n# inclination and declination (e.g. Vancouver)\ninclination, declination = 67., 0."
      ]
    },
    {
      "cell_type": "markdown",
      "metadata": {},
      "source": [
        "## Magnetostatic Dipole and Loop\n\nHere, we build the geoana magnetic dipole and poie in a wholespace\nusing the parameters defined above.\n\n"
      ]
    },
    {
      "cell_type": "code",
      "execution_count": null,
      "metadata": {
        "collapsed": false
      },
      "outputs": [],
      "source": [
        "def id_to_cartesian(inclination, declination):\n    ux = np.cos(inclination/180.*np.pi)*np.sin(declination/180.*np.pi)\n    uy = np.cos(inclination/180.*np.pi)*np.cos(declination/180.*np.pi)\n    uz = -np.sin(inclination/180.*np.pi)\n    return np.r_[ux, uy, uz]\n\norientation = id_to_cartesian(inclination, declination)\n\ndipole = static.MagneticDipoleWholeSpace(\n    location=location,\n    orientation=orientation,\n    moment=moment\n)\n\npole = static.MagneticPoleWholeSpace(\n    location=location,\n    orientation=orientation,\n    moment=moment\n)"
      ]
    },
    {
      "cell_type": "markdown",
      "metadata": {},
      "source": [
        "## Evaluate magnetic fields\n\nNext, we construct a grid where we want to plot the magentic fields and\nevaluate\n\n"
      ]
    },
    {
      "cell_type": "code",
      "execution_count": null,
      "metadata": {
        "collapsed": false
      },
      "outputs": [],
      "source": [
        "x = np.linspace(-36, 36, 100)\ny = np.linspace(-36, 36, 100)\nxyz = utils.ndgrid([x, y, np.r_[1.]])\n\n# evaluate the magnetic field\nb_vec_dipole = dipole.magnetic_flux_density(xyz)\nb_vec_pole = pole.magnetic_flux_density(xyz)\nb_total_dipole = dipole.dot_orientation(b_vec_dipole)\nb_total_pole = pole.dot_orientation(b_vec_pole)"
      ]
    },
    {
      "cell_type": "markdown",
      "metadata": {},
      "source": [
        "and define plotting code to plot an image of the amplitude of the vector\nfield / flux as well as the streamlines\n\n"
      ]
    },
    {
      "cell_type": "code",
      "execution_count": null,
      "metadata": {
        "collapsed": false
      },
      "outputs": [],
      "source": [
        "def plot_amplitude(ax, v):\n    plt.colorbar(\n        ax.pcolormesh(\n            x, y, v.reshape(len(x), len(y), order='F')\n        ), ax=ax\n    )\n    ax.axis('square')\n    ax.set_xlabel('y (east,  m)')\n    ax.set_ylabel('x (north,  m)')"
      ]
    },
    {
      "cell_type": "markdown",
      "metadata": {},
      "source": [
        "Create subplots for plotting the results. Loop over frequencies and plot the\nelectric and magnetic fields along a slice through the center of the dipole.\n\n"
      ]
    },
    {
      "cell_type": "code",
      "execution_count": null,
      "metadata": {
        "collapsed": false
      },
      "outputs": [],
      "source": [
        "fig, ax = plt.subplots(1, 2, figsize=(12, 5))\n\n# plot dipole vector potential\nplot_amplitude(ax[0], b_total_dipole)\n\n# plot loop vector potential\nplot_amplitude(ax[1], b_total_pole)\n\n\n# set the titles\nax[0].set_title(\"Total field: dipole\")\nax[1].set_title(\"Total field: pole\")\n\n# format so text doesn't overlap\nplt.tight_layout()\nplt.show()"
      ]
    }
  ],
  "metadata": {
    "kernelspec": {
      "display_name": "Python 3",
      "language": "python",
      "name": "python3"
    },
    "language_info": {
      "codemirror_mode": {
        "name": "ipython",
        "version": 3
      },
      "file_extension": ".py",
      "mimetype": "text/x-python",
      "name": "python",
      "nbconvert_exporter": "python",
      "pygments_lexer": "ipython3",
      "version": "3.13.8"
    }
  },
  "nbformat": 4,
  "nbformat_minor": 0
}