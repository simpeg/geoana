{
  "cells": [
    {
      "cell_type": "markdown",
      "metadata": {},
      "source": [
        "\n# Magnetostatic Vector Potentials: Dipole and Loop Sources\n\nIn this example, we plot the vector potential for a dipole and a loop source\nin a wholespace.\n\nWe can vary the magnetic permeability of the wholespace, location and\norientation of the sources. For the dipole source, we can vary the moment, and\nfor the loop source, we can vary the radius and current through the loop.\n\n:author: Lindsey Heagy ([@lheagy](https://github.com/lheagy))\n:date: June 6, 2018\n"
      ]
    },
    {
      "cell_type": "code",
      "execution_count": null,
      "metadata": {
        "collapsed": false
      },
      "outputs": [],
      "source": [
        "import numpy as np\nimport matplotlib.pyplot as plt\nfrom matplotlib.colors import LogNorm\nfrom scipy.constants import mu_0, epsilon_0\n\nfrom geoana import utils, spatial\nfrom geoana.em import static"
      ]
    },
    {
      "cell_type": "markdown",
      "metadata": {},
      "source": [
        "## Setup\n\ndefine the location orientation and source, physical properties of the\nwholespace and source parameters\n\n"
      ]
    },
    {
      "cell_type": "code",
      "execution_count": null,
      "metadata": {
        "collapsed": false
      },
      "outputs": [],
      "source": [
        "mu = mu_0  # permeability of free space (this is the default)\nlocation=np.r_[0., 0., 0.]  # location of the dipole\norientation='Z'  # vertical dipole (can also be a unit-vector)\n\n# dipole parameters\nmoment = 1\n\n# loop source parameters\ncurrent = 1\nradius = 20"
      ]
    },
    {
      "cell_type": "markdown",
      "metadata": {},
      "source": [
        "## Magnetostatic Dipole and Loop\n\nHere, we build the geoana magnetic dipole in a wholespace and circular loop\nin a wholespace using the parameters defined above.\nFor a full list of the properties you can set on a dipole, see the\n:class:`geoana.em.static.MagneticDipoleWholeSpace` docs and for the\ncircular loop source, see the\n:class:`geoana.em.static.CircularLoopWholeSpace` docs\n\n"
      ]
    },
    {
      "cell_type": "code",
      "execution_count": null,
      "metadata": {
        "collapsed": false
      },
      "outputs": [],
      "source": [
        "dipole = static.MagneticDipoleWholeSpace(\n    mu=mu, location=location,\n    orientation=orientation , moment=moment\n)\n\nloop = static.CircularLoopWholeSpace(\n    mu=mu, location=location,\n    orientation=orientation, current=current,\n    radius=radius\n)"
      ]
    },
    {
      "cell_type": "markdown",
      "metadata": {},
      "source": [
        "## Evaluate vector potential\n\nNext, we construct a grid where we want to plot the vector potential and\nevaluate\n\n"
      ]
    },
    {
      "cell_type": "code",
      "execution_count": null,
      "metadata": {
        "collapsed": false
      },
      "outputs": [],
      "source": [
        "x = np.linspace(-50, 50, 100)\ny = np.linspace(-50, 50, 100)\nxyz = utils.ndgrid([x, y, np.r_[0]])\n\n# evaluate the vector potential\na_dipole = dipole.vector_potential(xyz)\na_loop = loop.vector_potential(xyz)"
      ]
    },
    {
      "cell_type": "markdown",
      "metadata": {},
      "source": [
        "and define plotting code to plot an image of the amplitude of the vector\nfield / flux as well as the streamlines\n\n"
      ]
    },
    {
      "cell_type": "code",
      "execution_count": null,
      "metadata": {
        "collapsed": false
      },
      "outputs": [],
      "source": [
        "def plot_amplitude(ax, v):\n    v = spatial.vector_magnitude(v)\n    plt.colorbar(\n        ax.pcolormesh(\n            x, y, v.reshape(len(x), len(y), order='F'), norm=LogNorm()\n        ), ax=ax\n    )\n    ax.axis('square')\n    ax.set_xlabel('x (m)')\n    ax.set_ylabel('y (m)')\n\n\n# plot streamlines\ndef plot_streamlines(ax, v):\n    vx = v[:, 0].reshape(len(x), len(y), order='F')\n    vy = v[:, 1].reshape(len(x), len(y), order='F')\n    ax.streamplot(x, y, vx.T, vy.T, color='k')"
      ]
    },
    {
      "cell_type": "markdown",
      "metadata": {},
      "source": [
        "Create subplots for plotting the results. Loop over frequencies and plot the\nelectric and magnetic fields along a slice through the center of the dipole.\n\n"
      ]
    },
    {
      "cell_type": "code",
      "execution_count": null,
      "metadata": {
        "collapsed": false
      },
      "outputs": [],
      "source": [
        "fig, ax = plt.subplots(1, 2, figsize=(12, 5))\n\n# plot dipole vector potential\nplot_amplitude(ax[0], a_dipole)\nplot_streamlines(ax[0], a_dipole)\n\n# plot loop vector potential\nplot_amplitude(ax[1], a_loop)\nplot_streamlines(ax[1], a_loop)\n\n\n# set the titles\nax[0].set_title(\"$\\\\vec{A}$: dipole\")\nax[1].set_title(\"$\\\\vec{A}$: loop\")\n\n# format so text doesn't overlap\nfig.tight_layout()\nplt.show()"
      ]
    }
  ],
  "metadata": {
    "kernelspec": {
      "display_name": "Python 3",
      "language": "python",
      "name": "python3"
    },
    "language_info": {
      "codemirror_mode": {
        "name": "ipython",
        "version": 3
      },
      "file_extension": ".py",
      "mimetype": "text/x-python",
      "name": "python",
      "nbconvert_exporter": "python",
      "pygments_lexer": "ipython3",
      "version": "3.13.8"
    }
  },
  "nbformat": 4,
  "nbformat_minor": 0
}